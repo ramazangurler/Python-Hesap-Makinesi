{
 "cells": [
  {
   "cell_type": "code",
   "execution_count": 1,
   "id": "38743236",
   "metadata": {},
   "outputs": [],
   "source": [
    "from tkinter import *"
   ]
  },
  {
   "cell_type": "code",
   "execution_count": 2,
   "id": "ee230386",
   "metadata": {},
   "outputs": [],
   "source": [
    "def yaz(x):\n",
    "    s = len(giris.get())\n",
    "    giris.insert(s, str(x))\n",
    "    \n",
    "hesap = 5\n",
    "s1 = 0\n",
    "\n",
    "def islemler(x):\n",
    "    global hesap\n",
    "    hesap = x\n",
    "    global s1\n",
    "    s1 = float(giris.get())\n",
    "    print(hesap)\n",
    "    print(s1)\n",
    "    giris.delete(0, 'end')\n",
    "    \n",
    "s2 = 0\n",
    "def hesapla():\n",
    "    global s2\n",
    "    s2 = float(giris.get())\n",
    "    print(s2)\n",
    "    global hesap\n",
    "    sonuc = 0\n",
    "    if(hesap==0):sonuc = s1 + s2\n",
    "    elif(hesap==1):sonuc = s1 - s2\n",
    "    elif(hesap==2):sonuc = s1 * s2\n",
    "    elif(hesap==3):sonuc = s1 / s2\n",
    "    giris.delete(0, 'end')\n",
    "    giris.insert(0, str(sonuc))\n"
   ]
  },
  {
   "cell_type": "code",
   "execution_count": 4,
   "id": "dbfac7b7",
   "metadata": {},
   "outputs": [],
   "source": [
    "pencere = Tk()"
   ]
  },
  {
   "cell_type": "code",
   "execution_count": 5,
   "id": "ba04f5b2",
   "metadata": {},
   "outputs": [
    {
     "data": {
      "text/plain": [
       "''"
      ]
     },
     "execution_count": 5,
     "metadata": {},
     "output_type": "execute_result"
    }
   ],
   "source": [
    "pencere.geometry(\"250x300\")"
   ]
  },
  {
   "cell_type": "code",
   "execution_count": 6,
   "id": "55b6537a",
   "metadata": {},
   "outputs": [],
   "source": [
    "giris = Entry(font = \"Verdana 14 bold\", width = 15, justify = RIGHT)"
   ]
  },
  {
   "cell_type": "code",
   "execution_count": 7,
   "id": "028226e1",
   "metadata": {},
   "outputs": [],
   "source": [
    "giris.place(x=20, y=20)"
   ]
  },
  {
   "cell_type": "code",
   "execution_count": 8,
   "id": "fd74e712",
   "metadata": {},
   "outputs": [],
   "source": [
    "b = []"
   ]
  },
  {
   "cell_type": "code",
   "execution_count": 9,
   "id": "9528c1a4",
   "metadata": {},
   "outputs": [],
   "source": [
    "for i in range(1,10):\n",
    "    b.append(Button(text = str(i), font = \"Verdana 14 bold\", command = lambda x=i:yaz(x)))"
   ]
  },
  {
   "cell_type": "code",
   "execution_count": 10,
   "id": "35991fa6",
   "metadata": {},
   "outputs": [],
   "source": [
    "sayac = 0"
   ]
  },
  {
   "cell_type": "code",
   "execution_count": 11,
   "id": "6a06cf54",
   "metadata": {
    "scrolled": true
   },
   "outputs": [],
   "source": [
    "for i in range(0,3):\n",
    "    for j in range(0,3):\n",
    "        b[sayac].place(x=20+j*50, y=50+i*50)\n",
    "        sayac += 1"
   ]
  },
  {
   "cell_type": "code",
   "execution_count": 12,
   "id": "e0e7df2d",
   "metadata": {},
   "outputs": [],
   "source": [
    "islem = []"
   ]
  },
  {
   "cell_type": "code",
   "execution_count": 13,
   "id": "3de579e5",
   "metadata": {},
   "outputs": [],
   "source": [
    "for i in range(0,4):\n",
    "    islem.append(Button(font = \"Verdana 14 bold\", width = 2, command = lambda x=i:islemler(x)))"
   ]
  },
  {
   "cell_type": "code",
   "execution_count": 14,
   "id": "6b10517a",
   "metadata": {},
   "outputs": [],
   "source": [
    "islem[0]['text'] = \"+\"\n",
    "islem[1]['text'] = \"-\"\n",
    "islem[2]['text'] = \"*\"\n",
    "islem[3]['text'] = \"/\""
   ]
  },
  {
   "cell_type": "code",
   "execution_count": 15,
   "id": "57d7a769",
   "metadata": {},
   "outputs": [],
   "source": [
    "for i in range(0,4):\n",
    "    islem[i].place(x=170, y=50+50*i)"
   ]
  },
  {
   "cell_type": "code",
   "execution_count": 16,
   "id": "c61d2b70",
   "metadata": {},
   "outputs": [],
   "source": [
    "sb = Button(text = \"0\", font = \"Verdana 14 bold\", command = lambda x=0:yaz(x))\n",
    "sb.place(x=20, y=200)"
   ]
  },
  {
   "cell_type": "code",
   "execution_count": 17,
   "id": "100706c1",
   "metadata": {},
   "outputs": [],
   "source": [
    "nb = Button(text = \".\", font = \"Verdana 14 bold\", width = 2, command = lambda x=\".\":yaz(x))\n",
    "nb.place(x=70, y=200)"
   ]
  },
  {
   "cell_type": "code",
   "execution_count": 18,
   "id": "6835f35c",
   "metadata": {},
   "outputs": [],
   "source": [
    "eb = Button(text = \"=\", font = \"Verdana 14 bold\", command = hesapla)\n",
    "eb.place(x=120, y=200)"
   ]
  },
  {
   "cell_type": "code",
   "execution_count": 19,
   "id": "9c4ea052",
   "metadata": {},
   "outputs": [],
   "source": [
    "pencere.mainloop()"
   ]
  }
 ],
 "metadata": {
  "kernelspec": {
   "display_name": "Python 3 (ipykernel)",
   "language": "python",
   "name": "python3"
  },
  "language_info": {
   "codemirror_mode": {
    "name": "ipython",
    "version": 3
   },
   "file_extension": ".py",
   "mimetype": "text/x-python",
   "name": "python",
   "nbconvert_exporter": "python",
   "pygments_lexer": "ipython3",
   "version": "3.9.7"
  }
 },
 "nbformat": 4,
 "nbformat_minor": 5
}
